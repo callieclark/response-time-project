{
 "cells": [
  {
   "cell_type": "markdown",
   "metadata": {},
   "source": [
    "# Response Time Simulation\n",
    "\n",
    "\n",
    "More info on OSMNX:\n",
    "Get street networks anywhere in the world from OpenStreetMap data then analyze and visualize them.\n",
    "\n",
    "  - [Documentation and install instructions](https://osmnx.readthedocs.io)\n",
    "  - [Examples, demos, tutorials](https://github.com/gboeing/osmnx-examples)\n",
    "  - [Journal article and citation info](http://geoffboeing.com/publications/osmnx-complex-street-networks/)"
   ]
  },
  {
   "cell_type": "code",
   "execution_count": 1,
   "metadata": {},
   "outputs": [
    {
     "data": {
      "text/plain": [
       "'1.0.1'"
      ]
     },
     "execution_count": 1,
     "metadata": {},
     "output_type": "execute_result"
    }
   ],
   "source": [
    "import networkx as nx\n",
    "import numpy as np\n",
    "import geopandas as gpd\n",
    "import fiona\n",
    "import osmnx as ox\n",
    "import requests\n",
    "import skmob\n",
    "import pandas as pd\n",
    "import json\n",
    "from datetime import datetime\n",
    "import matplotlib.pyplot as plt\n",
    "import seaborn as sns\n",
    "import fiona\n",
    "import warnings\n",
    "from shapely.geometry import shape,mapping, Point, Polygon, MultiPolygon\n",
    "warnings.filterwarnings(\"ignore\")\n",
    "import matplotlib.cm as cm\n",
    "import matplotlib.colors as colors\n",
    "import statistics\n",
    "import os\n",
    "\n",
    "import simulation_functions as sim\n",
    "\n",
    "ox.config(use_cache=True, log_console=True)\n",
    "ox.__version__"
   ]
  },
  {
   "cell_type": "code",
   "execution_count": 3,
   "metadata": {},
   "outputs": [
    {
     "ename": "Exception",
     "evalue": "Server returned\n<Response [408]> Request Timeout\n<!DOCTYPE HTML PUBLIC \"-//IETF//DTD HTML 2.0//EN\">\n<html><head>\n<title>408 Request Timeout</title>\n</head><body>\n<h1>Request Timeout</h1>\n<p>Server timeout waiting for the HTTP request from the client.</p>\n<hr>\n<address>Apache/2.4.18 (Ubuntu) Server at overpass-api.de Port 80</address>\n</body></html>\n",
     "output_type": "error",
     "traceback": [
      "\u001b[0;31m---------------------------------------------------------------------------\u001b[0m",
      "\u001b[0;31mJSONDecodeError\u001b[0m                           Traceback (most recent call last)",
      "\u001b[0;32m~/anaconda3/envs/skmob/lib/python3.7/site-packages/osmnx/downloader.py\u001b[0m in \u001b[0;36moverpass_request\u001b[0;34m(data, pause, error_pause)\u001b[0m\n\u001b[1;32m    675\u001b[0m         \u001b[0;32mtry\u001b[0m\u001b[0;34m:\u001b[0m\u001b[0;34m\u001b[0m\u001b[0;34m\u001b[0m\u001b[0m\n\u001b[0;32m--> 676\u001b[0;31m             \u001b[0mresponse_json\u001b[0m \u001b[0;34m=\u001b[0m \u001b[0mresponse\u001b[0m\u001b[0;34m.\u001b[0m\u001b[0mjson\u001b[0m\u001b[0;34m(\u001b[0m\u001b[0;34m)\u001b[0m\u001b[0;34m\u001b[0m\u001b[0;34m\u001b[0m\u001b[0m\n\u001b[0m\u001b[1;32m    677\u001b[0m             \u001b[0;32mif\u001b[0m \u001b[0;34m\"remark\"\u001b[0m \u001b[0;32min\u001b[0m \u001b[0mresponse_json\u001b[0m\u001b[0;34m:\u001b[0m\u001b[0;34m\u001b[0m\u001b[0;34m\u001b[0m\u001b[0m\n",
      "\u001b[0;32m~/anaconda3/envs/skmob/lib/python3.7/site-packages/requests/models.py\u001b[0m in \u001b[0;36mjson\u001b[0;34m(self, **kwargs)\u001b[0m\n\u001b[1;32m    899\u001b[0m                     \u001b[0;32mpass\u001b[0m\u001b[0;34m\u001b[0m\u001b[0;34m\u001b[0m\u001b[0m\n\u001b[0;32m--> 900\u001b[0;31m         \u001b[0;32mreturn\u001b[0m \u001b[0mcomplexjson\u001b[0m\u001b[0;34m.\u001b[0m\u001b[0mloads\u001b[0m\u001b[0;34m(\u001b[0m\u001b[0mself\u001b[0m\u001b[0;34m.\u001b[0m\u001b[0mtext\u001b[0m\u001b[0;34m,\u001b[0m \u001b[0;34m**\u001b[0m\u001b[0mkwargs\u001b[0m\u001b[0;34m)\u001b[0m\u001b[0;34m\u001b[0m\u001b[0;34m\u001b[0m\u001b[0m\n\u001b[0m\u001b[1;32m    901\u001b[0m \u001b[0;34m\u001b[0m\u001b[0m\n",
      "\u001b[0;32m~/anaconda3/envs/skmob/lib/python3.7/json/__init__.py\u001b[0m in \u001b[0;36mloads\u001b[0;34m(s, encoding, cls, object_hook, parse_float, parse_int, parse_constant, object_pairs_hook, **kw)\u001b[0m\n\u001b[1;32m    347\u001b[0m             parse_constant is None and object_pairs_hook is None and not kw):\n\u001b[0;32m--> 348\u001b[0;31m         \u001b[0;32mreturn\u001b[0m \u001b[0m_default_decoder\u001b[0m\u001b[0;34m.\u001b[0m\u001b[0mdecode\u001b[0m\u001b[0;34m(\u001b[0m\u001b[0ms\u001b[0m\u001b[0;34m)\u001b[0m\u001b[0;34m\u001b[0m\u001b[0;34m\u001b[0m\u001b[0m\n\u001b[0m\u001b[1;32m    349\u001b[0m     \u001b[0;32mif\u001b[0m \u001b[0mcls\u001b[0m \u001b[0;32mis\u001b[0m \u001b[0;32mNone\u001b[0m\u001b[0;34m:\u001b[0m\u001b[0;34m\u001b[0m\u001b[0;34m\u001b[0m\u001b[0m\n",
      "\u001b[0;32m~/anaconda3/envs/skmob/lib/python3.7/json/decoder.py\u001b[0m in \u001b[0;36mdecode\u001b[0;34m(self, s, _w)\u001b[0m\n\u001b[1;32m    336\u001b[0m         \"\"\"\n\u001b[0;32m--> 337\u001b[0;31m         \u001b[0mobj\u001b[0m\u001b[0;34m,\u001b[0m \u001b[0mend\u001b[0m \u001b[0;34m=\u001b[0m \u001b[0mself\u001b[0m\u001b[0;34m.\u001b[0m\u001b[0mraw_decode\u001b[0m\u001b[0;34m(\u001b[0m\u001b[0ms\u001b[0m\u001b[0;34m,\u001b[0m \u001b[0midx\u001b[0m\u001b[0;34m=\u001b[0m\u001b[0m_w\u001b[0m\u001b[0;34m(\u001b[0m\u001b[0ms\u001b[0m\u001b[0;34m,\u001b[0m \u001b[0;36m0\u001b[0m\u001b[0;34m)\u001b[0m\u001b[0;34m.\u001b[0m\u001b[0mend\u001b[0m\u001b[0;34m(\u001b[0m\u001b[0;34m)\u001b[0m\u001b[0;34m)\u001b[0m\u001b[0;34m\u001b[0m\u001b[0;34m\u001b[0m\u001b[0m\n\u001b[0m\u001b[1;32m    338\u001b[0m         \u001b[0mend\u001b[0m \u001b[0;34m=\u001b[0m \u001b[0m_w\u001b[0m\u001b[0;34m(\u001b[0m\u001b[0ms\u001b[0m\u001b[0;34m,\u001b[0m \u001b[0mend\u001b[0m\u001b[0;34m)\u001b[0m\u001b[0;34m.\u001b[0m\u001b[0mend\u001b[0m\u001b[0;34m(\u001b[0m\u001b[0;34m)\u001b[0m\u001b[0;34m\u001b[0m\u001b[0;34m\u001b[0m\u001b[0m\n",
      "\u001b[0;32m~/anaconda3/envs/skmob/lib/python3.7/json/decoder.py\u001b[0m in \u001b[0;36mraw_decode\u001b[0;34m(self, s, idx)\u001b[0m\n\u001b[1;32m    354\u001b[0m         \u001b[0;32mexcept\u001b[0m \u001b[0mStopIteration\u001b[0m \u001b[0;32mas\u001b[0m \u001b[0merr\u001b[0m\u001b[0;34m:\u001b[0m\u001b[0;34m\u001b[0m\u001b[0;34m\u001b[0m\u001b[0m\n\u001b[0;32m--> 355\u001b[0;31m             \u001b[0;32mraise\u001b[0m \u001b[0mJSONDecodeError\u001b[0m\u001b[0;34m(\u001b[0m\u001b[0;34m\"Expecting value\"\u001b[0m\u001b[0;34m,\u001b[0m \u001b[0ms\u001b[0m\u001b[0;34m,\u001b[0m \u001b[0merr\u001b[0m\u001b[0;34m.\u001b[0m\u001b[0mvalue\u001b[0m\u001b[0;34m)\u001b[0m \u001b[0;32mfrom\u001b[0m \u001b[0;32mNone\u001b[0m\u001b[0;34m\u001b[0m\u001b[0;34m\u001b[0m\u001b[0m\n\u001b[0m\u001b[1;32m    356\u001b[0m         \u001b[0;32mreturn\u001b[0m \u001b[0mobj\u001b[0m\u001b[0;34m,\u001b[0m \u001b[0mend\u001b[0m\u001b[0;34m\u001b[0m\u001b[0;34m\u001b[0m\u001b[0m\n",
      "\u001b[0;31mJSONDecodeError\u001b[0m: Expecting value: line 1 column 1 (char 0)",
      "\nDuring handling of the above exception, another exception occurred:\n",
      "\u001b[0;31mException\u001b[0m                                 Traceback (most recent call last)",
      "\u001b[0;32m<ipython-input-3-89a149b2ac30>\u001b[0m in \u001b[0;36m<module>\u001b[0;34m\u001b[0m\n\u001b[1;32m      1\u001b[0m \u001b[0;31m#place = 'Chicago, Illinois, USA'\u001b[0m\u001b[0;34m\u001b[0m\u001b[0;34m\u001b[0m\u001b[0;34m\u001b[0m\u001b[0m\n\u001b[0;32m----> 2\u001b[0;31m \u001b[0mG\u001b[0m \u001b[0;34m=\u001b[0m \u001b[0mox\u001b[0m\u001b[0;34m.\u001b[0m\u001b[0mgraph_from_place\u001b[0m\u001b[0;34m(\u001b[0m\u001b[0mplace\u001b[0m\u001b[0;34m,\u001b[0m \u001b[0mnetwork_type\u001b[0m\u001b[0;34m=\u001b[0m\u001b[0;34m'drive'\u001b[0m\u001b[0;34m)\u001b[0m\u001b[0;34m\u001b[0m\u001b[0;34m\u001b[0m\u001b[0m\n\u001b[0m\u001b[1;32m      3\u001b[0m \u001b[0;31m#fig, ax = ox.plot_graph(G)\u001b[0m\u001b[0;34m\u001b[0m\u001b[0;34m\u001b[0m\u001b[0;34m\u001b[0m\u001b[0m\n",
      "\u001b[0;32m~/anaconda3/envs/skmob/lib/python3.7/site-packages/osmnx/graph.py\u001b[0m in \u001b[0;36mgraph_from_place\u001b[0;34m(query, network_type, simplify, retain_all, truncate_by_edge, which_result, buffer_dist, clean_periphery, custom_filter)\u001b[0m\n\u001b[1;32m    345\u001b[0m         \u001b[0mtruncate_by_edge\u001b[0m\u001b[0;34m=\u001b[0m\u001b[0mtruncate_by_edge\u001b[0m\u001b[0;34m,\u001b[0m\u001b[0;34m\u001b[0m\u001b[0;34m\u001b[0m\u001b[0m\n\u001b[1;32m    346\u001b[0m         \u001b[0mclean_periphery\u001b[0m\u001b[0;34m=\u001b[0m\u001b[0mclean_periphery\u001b[0m\u001b[0;34m,\u001b[0m\u001b[0;34m\u001b[0m\u001b[0;34m\u001b[0m\u001b[0m\n\u001b[0;32m--> 347\u001b[0;31m         \u001b[0mcustom_filter\u001b[0m\u001b[0;34m=\u001b[0m\u001b[0mcustom_filter\u001b[0m\u001b[0;34m,\u001b[0m\u001b[0;34m\u001b[0m\u001b[0;34m\u001b[0m\u001b[0m\n\u001b[0m\u001b[1;32m    348\u001b[0m     )\n\u001b[1;32m    349\u001b[0m \u001b[0;34m\u001b[0m\u001b[0m\n",
      "\u001b[0;32m~/anaconda3/envs/skmob/lib/python3.7/site-packages/osmnx/graph.py\u001b[0m in \u001b[0;36mgraph_from_polygon\u001b[0;34m(polygon, network_type, simplify, retain_all, truncate_by_edge, clean_periphery, custom_filter)\u001b[0m\n\u001b[1;32m    417\u001b[0m \u001b[0;34m\u001b[0m\u001b[0m\n\u001b[1;32m    418\u001b[0m         \u001b[0;31m# download the network data from OSM within buffered polygon\u001b[0m\u001b[0;34m\u001b[0m\u001b[0;34m\u001b[0m\u001b[0;34m\u001b[0m\u001b[0m\n\u001b[0;32m--> 419\u001b[0;31m         \u001b[0mresponse_jsons\u001b[0m \u001b[0;34m=\u001b[0m \u001b[0mdownloader\u001b[0m\u001b[0;34m.\u001b[0m\u001b[0m_osm_network_download\u001b[0m\u001b[0;34m(\u001b[0m\u001b[0mpoly_buff\u001b[0m\u001b[0;34m,\u001b[0m \u001b[0mnetwork_type\u001b[0m\u001b[0;34m,\u001b[0m \u001b[0mcustom_filter\u001b[0m\u001b[0;34m)\u001b[0m\u001b[0;34m\u001b[0m\u001b[0;34m\u001b[0m\u001b[0m\n\u001b[0m\u001b[1;32m    420\u001b[0m \u001b[0;34m\u001b[0m\u001b[0m\n\u001b[1;32m    421\u001b[0m         \u001b[0;31m# create buffered graph from the downloaded data\u001b[0m\u001b[0;34m\u001b[0m\u001b[0;34m\u001b[0m\u001b[0;34m\u001b[0m\u001b[0m\n",
      "\u001b[0;32m~/anaconda3/envs/skmob/lib/python3.7/site-packages/osmnx/downloader.py\u001b[0m in \u001b[0;36m_osm_network_download\u001b[0;34m(polygon, network_type, custom_filter)\u001b[0m\n\u001b[1;32m    455\u001b[0m     \u001b[0;32mfor\u001b[0m \u001b[0mpolygon_coord_str\u001b[0m \u001b[0;32min\u001b[0m \u001b[0mpolygon_coord_strs\u001b[0m\u001b[0;34m:\u001b[0m\u001b[0;34m\u001b[0m\u001b[0;34m\u001b[0m\u001b[0m\n\u001b[1;32m    456\u001b[0m         \u001b[0mquery_str\u001b[0m \u001b[0;34m=\u001b[0m \u001b[0;34mf\"{overpass_settings};(way{osm_filter}(poly:'{polygon_coord_str}');>;);out;\"\u001b[0m\u001b[0;34m\u001b[0m\u001b[0;34m\u001b[0m\u001b[0m\n\u001b[0;32m--> 457\u001b[0;31m         \u001b[0mresponse_json\u001b[0m \u001b[0;34m=\u001b[0m \u001b[0moverpass_request\u001b[0m\u001b[0;34m(\u001b[0m\u001b[0mdata\u001b[0m\u001b[0;34m=\u001b[0m\u001b[0;34m{\u001b[0m\u001b[0;34m\"data\"\u001b[0m\u001b[0;34m:\u001b[0m \u001b[0mquery_str\u001b[0m\u001b[0;34m}\u001b[0m\u001b[0;34m)\u001b[0m\u001b[0;34m\u001b[0m\u001b[0;34m\u001b[0m\u001b[0m\n\u001b[0m\u001b[1;32m    458\u001b[0m         \u001b[0mresponse_jsons\u001b[0m\u001b[0;34m.\u001b[0m\u001b[0mappend\u001b[0m\u001b[0;34m(\u001b[0m\u001b[0mresponse_json\u001b[0m\u001b[0;34m)\u001b[0m\u001b[0;34m\u001b[0m\u001b[0;34m\u001b[0m\u001b[0m\n\u001b[1;32m    459\u001b[0m     utils.log(\n",
      "\u001b[0;32m~/anaconda3/envs/skmob/lib/python3.7/site-packages/osmnx/downloader.py\u001b[0m in \u001b[0;36moverpass_request\u001b[0;34m(data, pause, error_pause)\u001b[0m\n\u001b[1;32m    691\u001b[0m                 \u001b[0;31m# else, this was an unhandled status code, throw an exception\u001b[0m\u001b[0;34m\u001b[0m\u001b[0;34m\u001b[0m\u001b[0;34m\u001b[0m\u001b[0m\n\u001b[1;32m    692\u001b[0m                 \u001b[0mutils\u001b[0m\u001b[0;34m.\u001b[0m\u001b[0mlog\u001b[0m\u001b[0;34m(\u001b[0m\u001b[0;34mf\"{domain} returned {sc}\"\u001b[0m\u001b[0;34m,\u001b[0m \u001b[0mlevel\u001b[0m\u001b[0;34m=\u001b[0m\u001b[0mlg\u001b[0m\u001b[0;34m.\u001b[0m\u001b[0mERROR\u001b[0m\u001b[0;34m)\u001b[0m\u001b[0;34m\u001b[0m\u001b[0;34m\u001b[0m\u001b[0m\n\u001b[0;32m--> 693\u001b[0;31m                 \u001b[0;32mraise\u001b[0m \u001b[0mException\u001b[0m\u001b[0;34m(\u001b[0m\u001b[0;34mf\"Server returned\\n{response} {response.reason}\\n{response.text}\"\u001b[0m\u001b[0;34m)\u001b[0m\u001b[0;34m\u001b[0m\u001b[0;34m\u001b[0m\u001b[0m\n\u001b[0m\u001b[1;32m    694\u001b[0m \u001b[0;34m\u001b[0m\u001b[0m\n\u001b[1;32m    695\u001b[0m         \u001b[0m_save_to_cache\u001b[0m\u001b[0;34m(\u001b[0m\u001b[0mprepared_url\u001b[0m\u001b[0;34m,\u001b[0m \u001b[0mresponse_json\u001b[0m\u001b[0;34m,\u001b[0m \u001b[0msc\u001b[0m\u001b[0;34m)\u001b[0m\u001b[0;34m\u001b[0m\u001b[0;34m\u001b[0m\u001b[0m\n",
      "\u001b[0;31mException\u001b[0m: Server returned\n<Response [408]> Request Timeout\n<!DOCTYPE HTML PUBLIC \"-//IETF//DTD HTML 2.0//EN\">\n<html><head>\n<title>408 Request Timeout</title>\n</head><body>\n<h1>Request Timeout</h1>\n<p>Server timeout waiting for the HTTP request from the client.</p>\n<hr>\n<address>Apache/2.4.18 (Ubuntu) Server at overpass-api.de Port 80</address>\n</body></html>\n"
     ]
    }
   ],
   "source": [
    "place = 'Chicago, Illinois, USA'\n",
    "G = ox.graph_from_place(place, network_type='drive')\n",
    "#fig, ax = ox.plot_graph(G)"
   ]
  },
  {
   "cell_type": "markdown",
   "metadata": {},
   "source": [
    "stats documentation: https://osmnx.readthedocs.io/en/stable/osmnx.html#module-osmnx.stats"
   ]
  },
  {
   "cell_type": "code",
   "execution_count": null,
   "metadata": {},
   "outputs": [],
   "source": [
    "# assign speeds and traversal times to the edges\n",
    "for u, v, k, d in G.edges(keys=True, data=True):\n",
    "    if 'residential' in d['highway']:\n",
    "        d['speed'] = 20\n",
    "    elif 'tertiary' in d['highway']:\n",
    "        d['speed'] = 30\n",
    "    elif 'secondary' in d['highway']:\n",
    "        d['speed'] = 40\n",
    "    else:\n",
    "        d['speed'] = 25\n",
    "    \n",
    "    # calculate time to traverse edge, in minutes\n",
    "    d['time'] = d['length'] / (d['speed'] * 1609.34 / 60) #miles/hour to meters/minute"
   ]
  },
  {
   "cell_type": "markdown",
   "metadata": {},
   "source": [
    "## Run Scenarios"
   ]
  },
  {
   "cell_type": "code",
   "execution_count": null,
   "metadata": {},
   "outputs": [],
   "source": [
    "precent_operating_list=[0.10, 0.20, 0.30, 0.40, 0.50, 0.60, 0.70, 0.80, 0.90] \n",
    "data_dict={}\n",
    "\n",
    "def run_daily_profile(csv,grouping,percent_operating_list):\n",
    "        #this function runs for different staffing scenarios\n",
    "        \n",
    "    crime_data,polrep_crime_data,altrep_crime_data=sim.create_crime_dfs(csv,grouping)\n",
    "    PS_data,cr_lat,cr_long=sim.create_police_station_df(csv='Police_Stations_-_Map.csv',folder='Simulation_Data')\n",
    "    Gs = ox.utils_graph.get_largest_component(G, strongly=True)\n",
    "    PC_node,Police_officers=sim.create_pc_node(PS_data,G,Gs,cr_lat,cr_long)\n",
    "    polrep_crime_node,polrep_crime_geo=sim.get_nearest_crime_node(polrep_crime_data,Gs)\n",
    "    altrep_crime_node,altrep_crime_geo=sim.get_nearest_crime_node(altrep_crime_data,Gs)\n",
    "    polrep_time_min,polrep_ser_min=sim.create_time_sequence(polrep_crime_data)\n",
    "    polrep_Crime = [polrep_time_min,polrep_crime_node,polrep_ser_min,polrep_crime_geo]\n",
    "    altrep_time_min,altrep_ser_min=sim.create_time_sequence(altrep_crime_data)\n",
    "    alt_rep_Crime = [altrep_time_min,altrep_crime_node,altrep_ser_min,altrep_crime_geo]\n",
    "    \n",
    "    polys=sim.create_polys(PS_data,Gs, shp='Chicago_PB.shp',folder='Simulation_Data')\n",
    "    ndk=sim.set_ndk(Gs,PC_node)\n",
    "    \n",
    "    for percent_operating in percent_operating_list:\n",
    "        polrep_RT,polrep_Officers_maxed_out=sim.eva_resp_time(PC_node,polrep_Crime,percent_operating,ndk,polys,Gs)  \n",
    "        pol_res_time = sim.column(polrep_RT, 0)\n",
    "        data_dict[str(grouping)+'_'+csv[:-13]+'_'+str(percent_operating)]=[np.mean(pol_res_time),np.median(pol_res_time),np.max(pol_res_time),polrep_Officers_maxed_out,pol_res_time]\n",
    "        \n",
    "        percent_responding=round(1-percent_operating,2)\n",
    "        altrep_RT,altrep_Officers_maxed_out=sim.eva_resp_time(PC_node,alt_rep_Crime,percent_responding,ndk,polys,Gs)\n",
    "        alt_res_time = sim.column(altrep_RT, 0)\n",
    "        data_dict['non'+str(grouping)+'_'+csv[:-13]+'_'+str(percent_responding)]=[np.mean(alt_res_time),np.median(alt_res_time),np.max(alt_res_time),altrep_Officers_maxed_out,alt_res_time]\n",
    "       \n",
    "\n"
   ]
  },
  {
   "cell_type": "code",
   "execution_count": null,
   "metadata": {},
   "outputs": [],
   "source": [
    "def run_BAU(csv):\n",
    "        \n",
    "    crime_data,gr1,gr2=sim.create_crime_dfs(csv,grouping='BAU')\n",
    "    PS_data,cr_lat,cr_long=sim.create_police_station_df(csv='Police_Stations_-_Map.csv',folder='Simulation_Data')\n",
    "    Gs = ox.utils_graph.get_largest_component(G, strongly=True)\n",
    "    PC_node,Police_officers=sim.create_pc_node(PS_data,G,Gs,cr_lat,cr_long)\n",
    "    crime_node,crime_geo=sim.get_nearest_crime_node(crime_data,Gs)\n",
    "   \n",
    "    time_min,ser_min=sim.create_time_sequence(crime_data)\n",
    "    Crime = [time_min,crime_node,ser_min,crime_geo]\n",
    "    \n",
    "    polys=sim.create_polys(PS_data,Gs, shp='Chicago_PB.shp',folder='Simulation_Data')\n",
    "    ndk=sim.set_ndk(Gs,PC_node)\n",
    "    \n",
    "    percent_operating=1.0\n",
    "    RT,Officers_maxed_out=sim.eva_resp_time(PC_node,Crime,percent_operating,ndk,polys,Gs)  \n",
    "    res_time = sim.column(RT, 0)\n",
    "    data_dict['BAU'+'_'+csv[:-13]+'_'+str(percent_operating)]=[np.mean(res_time),np.median(res_time),np.max(res_time),Officers_maxed_out,res_time]\n",
    "        \n"
   ]
  },
  {
   "cell_type": "code",
   "execution_count": 10,
   "metadata": {},
   "outputs": [
    {
     "name": "stdout",
     "output_type": "stream",
     "text": [
      "BAU: No Groupings\n",
      "Day Evaluating:  2014-10-01 00:00:00\n"
     ]
    }
   ],
   "source": [
    "#run_BAU(csv='fall_worst_case_0_timestamp.csv')"
   ]
  },
  {
   "cell_type": "code",
   "execution_count": 9,
   "metadata": {},
   "outputs": [],
   "source": [
    "#run_daily_profile(csv='fall_worst_case_0_timestamp.csv',grouping='Index',percent_operating_list=[0.9] )"
   ]
  },
  {
   "cell_type": "code",
   "execution_count": null,
   "metadata": {},
   "outputs": [],
   "source": [
    "arr = os.listdir('Chicago_Data/Daily_Profiles')\n",
    "for csv in arr:\n",
    "    print(csv)\n",
    "    run_daily_profile(csv,'Index',precent_operating_list)\n",
    "    run_daily_profile(csv,'Violent',precent_operating_list)\n",
    "    run_BAU(csv)"
   ]
  },
  {
   "cell_type": "code",
   "execution_count": null,
   "metadata": {},
   "outputs": [],
   "source": [
    "def create_df(data_dict):\n",
    "    df=pd.DataFrame(data_dict).T\n",
    "    df.columns=['Mean','Median','Max','Officers Maxed','RTs']\n",
    "    df['percentage']=[float(i[-3:]) for i in df.index]\n",
    "    df['Responder']=[(i[:3]=='non')*1 for i in df.index]\n",
    "    df['Responder']=df['Responder'].map({1:'Alternative',0:'Police'})#this takes into account BAU#round RTs\n",
    "    df['Grouping']=[a+b for a, b in zip([('Violent' in i)*1 for i in df.index], [('BAU' in i)*2 for i in df.index])]\n",
    "    df['Grouping']=df['Grouping'].map({2:'BAU',1:'Violent',0:'Index'})\n",
    "    return df"
   ]
  },
  {
   "cell_type": "code",
   "execution_count": null,
   "metadata": {},
   "outputs": [],
   "source": [
    "df=create_df(data_dict)\n",
    "#df.to_csv('Chicago_Data/RT_Data_allscenarios.csv')\n",
    "df"
   ]
  },
  {
   "cell_type": "markdown",
   "metadata": {},
   "source": [
    "# Below we have the process step-by-step for reference/de-bugging"
   ]
  },
  {
   "cell_type": "markdown",
   "metadata": {},
   "source": [
    "### Format Crime Data"
   ]
  },
  {
   "cell_type": "code",
   "execution_count": 8,
   "metadata": {},
   "outputs": [
    {
     "name": "stdout",
     "output_type": "stream",
     "text": [
      "Groups are Violent and Non-violent\n"
     ]
    }
   ],
   "source": [
    "\n",
    "\"\"\"CSV Options\n",
    "daily_profile='all_data_0.5_0_timestamp.csv'\n",
    "daily_profile='fall_0.5_0_timestamp.csv'\n",
    "daily_profile='spring_0.5_0_timestamp.csv'\n",
    "daily_profile='winter_0.5_0_timestamp.csv'\n",
    "daily_profile='summer_0.5_0_timestamp.csv'\n",
    "\n",
    "daily_profile='all_data_worst_case_0_timestamp.csv'\n",
    "daily_profile='spring_worst_case_0_timestamp.csv'\n",
    "daily_profile='summer_worst_case_0_timestamp.csv'\n",
    "daily_profile='winter_worst_case_0_timestamp.csv'\n",
    "daily_profile='fall_worst_case_0_timestamp.csv\n",
    "\n",
    "grouping options:\n",
    "grouping='Violent'\n",
    "grouping='Index'\n",
    "'\"\"\"\n",
    "crime_data,polrep_crime_data,altrep_crime_data=sim.create_crime_dfs(csv='fall_worst_case_0_timestamp.csv',grouping='Violent')\n"
   ]
  },
  {
   "cell_type": "markdown",
   "metadata": {},
   "source": [
    "## Importing Police Location Data (Using that as location for police for basic simulation)"
   ]
  },
  {
   "cell_type": "code",
   "execution_count": 9,
   "metadata": {},
   "outputs": [],
   "source": [
    "PS_data,cr_lat,cr_long=sim.create_police_station_df(csv='Police_Stations_-_Map.csv',folder='Simulation_Data')\n",
    "Gs = ox.utils_graph.get_largest_component(G, strongly=True)\n",
    "PC_node,Police_officers=sim.create_pc_node(PS_data,G,Gs,cr_lat,cr_long)"
   ]
  },
  {
   "cell_type": "markdown",
   "metadata": {},
   "source": [
    "## Evaluating Response time based on the nearest police location to the crime"
   ]
  },
  {
   "cell_type": "markdown",
   "metadata": {},
   "source": [
    "## Initialize varibales : no of police associated with police location, no of police needed based on crime, "
   ]
  },
  {
   "cell_type": "code",
   "execution_count": 15,
   "metadata": {},
   "outputs": [],
   "source": [
    "polrep_crime_node,polrep_crime_geo=sim.get_nearest_crime_node(polrep_crime_data,Gs)\n",
    "altrep_crime_node,altrep_crime_geo=sim.get_nearest_crime_node(altrep_crime_data,Gs)"
   ]
  },
  {
   "cell_type": "code",
   "execution_count": 16,
   "metadata": {},
   "outputs": [
    {
     "name": "stdout",
     "output_type": "stream",
     "text": [
      "Day Evaluating:  2014-10-01 00:00:00\n"
     ]
    }
   ],
   "source": [
    "polrep_time_min,polrep_ser_min=sim.create_time_sequence(polrep_crime_data)\n",
    "polrep_Crime = [polrep_time_min,polrep_crime_node,polrep_ser_min,polrep_crime_geo]"
   ]
  },
  {
   "cell_type": "code",
   "execution_count": 17,
   "metadata": {},
   "outputs": [
    {
     "name": "stdout",
     "output_type": "stream",
     "text": [
      "Day Evaluating:  2014-10-01 00:00:00\n"
     ]
    }
   ],
   "source": [
    "altrep_time_min,altrep_ser_min=sim.create_time_sequence(altrep_crime_data)\n",
    "alt_rep_Crime = [altrep_time_min,altrep_crime_node,altrep_ser_min,altrep_crime_geo]"
   ]
  },
  {
   "cell_type": "markdown",
   "metadata": {},
   "source": [
    "## Police Beats"
   ]
  },
  {
   "cell_type": "code",
   "execution_count": 19,
   "metadata": {},
   "outputs": [],
   "source": [
    "warnings.filterwarnings(\"ignore\")\n",
    "polys=sim.create_polys(PS_data,Gs, shp='Chicago_PB.shp',folder='Simulation_Data')"
   ]
  },
  {
   "cell_type": "code",
   "execution_count": 20,
   "metadata": {},
   "outputs": [
    {
     "data": {
      "text/html": [
       "<div>\n",
       "<style scoped>\n",
       "    .dataframe tbody tr th:only-of-type {\n",
       "        vertical-align: middle;\n",
       "    }\n",
       "\n",
       "    .dataframe tbody tr th {\n",
       "        vertical-align: top;\n",
       "    }\n",
       "\n",
       "    .dataframe thead th {\n",
       "        text-align: right;\n",
       "    }\n",
       "</style>\n",
       "<table border=\"1\" class=\"dataframe\">\n",
       "  <thead>\n",
       "    <tr style=\"text-align: right;\">\n",
       "      <th></th>\n",
       "      <th>dist_label</th>\n",
       "      <th>dist_num</th>\n",
       "      <th>geometry</th>\n",
       "      <th>node</th>\n",
       "      <th>#Officers</th>\n",
       "      <th>NoOfOfficers</th>\n",
       "    </tr>\n",
       "  </thead>\n",
       "  <tbody>\n",
       "    <tr>\n",
       "      <th>0</th>\n",
       "      <td>17TH</td>\n",
       "      <td>17</td>\n",
       "      <td>POLYGON ((-87.71067 41.99737, -87.71067 41.997...</td>\n",
       "      <td>305911655</td>\n",
       "      <td>202.0</td>\n",
       "      <td>40.0</td>\n",
       "    </tr>\n",
       "    <tr>\n",
       "      <th>1</th>\n",
       "      <td>20TH</td>\n",
       "      <td>20</td>\n",
       "      <td>POLYGON ((-87.66029 41.99092, -87.66029 41.990...</td>\n",
       "      <td>305527080</td>\n",
       "      <td>208.0</td>\n",
       "      <td>42.0</td>\n",
       "    </tr>\n",
       "    <tr>\n",
       "      <th>2</th>\n",
       "      <td>31ST</td>\n",
       "      <td>16</td>\n",
       "      <td>POLYGON ((-87.82818 41.98384, -87.82816 41.983...</td>\n",
       "      <td>305905861</td>\n",
       "      <td>237.0</td>\n",
       "      <td>47.0</td>\n",
       "    </tr>\n",
       "    <tr>\n",
       "      <th>3</th>\n",
       "      <td>31ST</td>\n",
       "      <td>16</td>\n",
       "      <td>POLYGON ((-87.83365 41.97535, -87.83366 41.974...</td>\n",
       "      <td>305905861</td>\n",
       "      <td>237.0</td>\n",
       "      <td>47.0</td>\n",
       "    </tr>\n",
       "    <tr>\n",
       "      <th>4</th>\n",
       "      <td>19TH</td>\n",
       "      <td>19</td>\n",
       "      <td>POLYGON ((-87.64492 41.96973, -87.64431 41.969...</td>\n",
       "      <td>250278999</td>\n",
       "      <td>356.0</td>\n",
       "      <td>71.0</td>\n",
       "    </tr>\n",
       "  </tbody>\n",
       "</table>\n",
       "</div>"
      ],
      "text/plain": [
       "  dist_label dist_num                                           geometry  \\\n",
       "0       17TH       17  POLYGON ((-87.71067 41.99737, -87.71067 41.997...   \n",
       "1       20TH       20  POLYGON ((-87.66029 41.99092, -87.66029 41.990...   \n",
       "2       31ST       16  POLYGON ((-87.82818 41.98384, -87.82816 41.983...   \n",
       "3       31ST       16  POLYGON ((-87.83365 41.97535, -87.83366 41.974...   \n",
       "4       19TH       19  POLYGON ((-87.64492 41.96973, -87.64431 41.969...   \n",
       "\n",
       "        node  #Officers  NoOfOfficers  \n",
       "0  305911655      202.0          40.0  \n",
       "1  305527080      208.0          42.0  \n",
       "2  305905861      237.0          47.0  \n",
       "3  305905861      237.0          47.0  \n",
       "4  250278999      356.0          71.0  "
      ]
     },
     "execution_count": 20,
     "metadata": {},
     "output_type": "execute_result"
    }
   ],
   "source": [
    "polys.head()"
   ]
  },
  {
   "cell_type": "code",
   "execution_count": 23,
   "metadata": {},
   "outputs": [
    {
     "name": "stdout",
     "output_type": "stream",
     "text": [
      "no off 69.0 0.8\n",
      "no off 71.0 0.8\n",
      "no off 65.0 0.8\n",
      "no off 68.0 0.8\n",
      "no off 86.0 0.8\n",
      "no off 73.0 0.8\n",
      "no off 74.0 0.8\n",
      "no off 66.0 0.8\n",
      "no off 74.0 0.8\n",
      "no off 71.0 0.8\n",
      "no off 67.0 0.8\n",
      "no off 73.0 0.8\n",
      "no off 69.0 0.8\n",
      "no off 59.0 0.8\n",
      "no off 68.0 0.8\n",
      "no off 71.0 0.8\n",
      "no off 65.0 0.8\n",
      "no off 71.0 0.8\n",
      "no off 86.0 0.8\n",
      "no off 49.0 0.8\n",
      "no off 82.0 0.8\n",
      "no off 66.0 0.8\n",
      "no off 71.0 0.8\n",
      "no off 73.0 0.8\n",
      "no off 71.0 0.8\n",
      "no off 82.0 0.8\n",
      "no off 69.0 0.8\n",
      "no off 82.0 0.8\n",
      "no off 69.0 0.8\n",
      "no off 73.0 0.8\n",
      "no off 69.0 0.8\n",
      "no off 69.0 0.8\n",
      "no off 68.0 0.8\n",
      "no off 71.0 0.8\n",
      "no off 66.0 0.8\n",
      "no off 86.0 0.8\n",
      "no off 69.0 0.8\n",
      "no off 66.0 0.8\n",
      "no off 71.0 0.8\n",
      "no off 68.0 0.8\n",
      "no off 74.0 0.8\n",
      "no off 71.0 0.8\n",
      "no off 86.0 0.8\n",
      "no off 49.0 0.8\n",
      "no off 69.0 0.8\n",
      "no off 69.0 0.8\n",
      "no off 49.0 0.8\n",
      "no off 71.0 0.8\n",
      "no off 69.0 0.8\n",
      "no off 68.0 0.8\n",
      "no off 55.0 0.8\n",
      "no off 71.0 0.8\n",
      "no off 86.0 0.8\n",
      "no off 66.0 0.8\n",
      "no off 65.0 0.8\n",
      "no off 49.0 0.8\n",
      "no off 71.0 0.8\n",
      "no off 82.0 0.8\n",
      "no off 69.0 0.8\n",
      "no off 86.0 0.8\n",
      "no off 82.0 0.8\n",
      "no off 69.0 0.8\n",
      "no off 69.0 0.8\n",
      "no off 65.0 0.8\n",
      "no off 82.0 0.8\n",
      "no off 66.0 0.8\n",
      "no off 82.0 0.8\n",
      "no off 74.0 0.8\n",
      "no off 82.0 0.8\n",
      "no off 74.0 0.8\n",
      "no off 86.0 0.8\n",
      "no off 82.0 0.8\n",
      "no off 82.0 0.8\n",
      "no off 73.0 0.8\n",
      "no off 71.0 0.8\n",
      "no off 65.0 0.8\n",
      "no off 49.0 0.8\n",
      "no off 86.0 0.8\n",
      "no off 73.0 0.8\n",
      "no off 55.0 0.8\n",
      "no off 65.0 0.8\n",
      "no off 65.0 0.8\n",
      "no off 82.0 0.8\n",
      "no off 55.0 0.8\n"
     ]
    }
   ],
   "source": [
    "percent_operating=0.8\n",
    "ndk=sim.set_ndk(Gs,PC_node)\n",
    "Resp_time,Officers_maxed_out=sim.eva_resp_time(PC_node,polrep_Crime,percent_operating,ndk,polys,Gs)"
   ]
  },
  {
   "cell_type": "code",
   "execution_count": 26,
   "metadata": {},
   "outputs": [
    {
     "data": {
      "text/plain": [
       "[[0.852313992071284, 0.0],\n",
       " [2.7034200355425204, 1.0],\n",
       " [1.3567937788161608, 1.0],\n",
       " [1.8082086445375127, 1.0],\n",
       " [3.491838890476842, 50.0],\n",
       " [2.260854760336536, 60.0],\n",
       " [1.626207327227311, 60.0],\n",
       " [3.6490045608758863, 97.0],\n",
       " [1.8183047087625988, 120.0],\n",
       " [1.68533908310239, 125.0],\n",
       " [2.4526184647122427, 195.0],\n",
       " [5.532587458212683, 276.0],\n",
       " [3.758539836206147, 284.0],\n",
       " [0.8003190749002698, 285.0],\n",
       " [2.3157017783687723, 440.0],\n",
       " [0.6966638497769271, 450.0],\n",
       " [3.3620863211005756, 465.0],\n",
       " [4.017296842183752, 540.0],\n",
       " [2.3416214100190142, 540.0],\n",
       " [1.8965712031018929, 540.0],\n",
       " [1.2277713224054583, 540.0],\n",
       " [3.0033936272012123, 560.0],\n",
       " [1.7986026569898221, 585.0],\n",
       " [5.461480109858701, 600.0],\n",
       " [3.8535660581356326, 618.0],\n",
       " [1.283450979904806, 630.0],\n",
       " [2.4015002423353673, 630.0],\n",
       " [2.4529241800986745, 656.0],\n",
       " [4.347292989672785, 660.0],\n",
       " [4.421163644723926, 665.0],\n",
       " [2.4504334074838137, 690.0],\n",
       " [4.982055003914648, 690.0],\n",
       " [1.7039979121876052, 694.0],\n",
       " [1.8984742813824305, 758.0],\n",
       " [6.0108174779723385, 780.0],\n",
       " [2.701368262766103, 783.0],\n",
       " [0.3774158972000945, 840.0],\n",
       " [4.0822680726260465, 840.0],\n",
       " [3.426784644636932, 840.0],\n",
       " [2.9443709843786894, 870.0],\n",
       " [1.3709489604434117, 874.0],\n",
       " [1.76967396572508, 885.0],\n",
       " [4.782743112083215, 900.0],\n",
       " [2.929323449364336, 905.0],\n",
       " [4.107941764947121, 930.0],\n",
       " [5.332986193097792, 935.0],\n",
       " [4.475760995190575, 968.0],\n",
       " [3.4432075260665864, 972.0],\n",
       " [3.3845303043483668, 975.0],\n",
       " [2.735765282662458, 1070.0],\n",
       " [2.256310972199784, 1073.0],\n",
       " [3.2044865597077066, 1080.0],\n",
       " [4.951868157132739, 1080.0],\n",
       " [6.678870841462962, 1080.0],\n",
       " [1.9858044912821406, 1089.0],\n",
       " [4.337619458908621, 1097.0],\n",
       " [2.1510367604111003, 1098.0],\n",
       " [2.15215523133707, 1108.0],\n",
       " [1.6091224974213034, 1110.0],\n",
       " [2.1156110579492218, 1120.0],\n",
       " [2.1521785328146943, 1125.0],\n",
       " [3.50005287881989, 1140.0],\n",
       " [4.511835286514969, 1162.0],\n",
       " [3.432014987510409, 1210.0],\n",
       " [5.162008960194865, 1230.0],\n",
       " [6.108903649943457, 1230.0],\n",
       " [1.0091658692383214, 1240.0],\n",
       " [1.683509388942051, 1245.0],\n",
       " [0.9394876160413588, 1260.0],\n",
       " [2.53914803584078, 1260.0],\n",
       " [3.3656180794611466, 1265.0],\n",
       " [1.0940528415375248, 1270.0],\n",
       " [2.0566126486634273, 1276.0],\n",
       " [7.144964519616737, 1280.0],\n",
       " [3.623329439397517, 1289.0],\n",
       " [2.7404718704562128, 1295.0],\n",
       " [1.3068483974797123, 1304.0],\n",
       " [2.2163054419824277, 1320.0],\n",
       " [2.3918910857867206, 1330.0],\n",
       " [2.4272123976288418, 1332.0],\n",
       " [2.9345942436029686, 1368.0],\n",
       " [2.9345942436029686, 1372.0],\n",
       " [2.4418736873500944, 1400.0],\n",
       " [3.013251084295426, 1425.0]]"
      ]
     },
     "execution_count": 26,
     "metadata": {},
     "output_type": "execute_result"
    }
   ],
   "source": [
    "Resp_time"
   ]
  },
  {
   "cell_type": "code",
   "execution_count": null,
   "metadata": {},
   "outputs": [],
   "source": []
  },
  {
   "cell_type": "code",
   "execution_count": null,
   "metadata": {},
   "outputs": [],
   "source": []
  },
  {
   "cell_type": "code",
   "execution_count": null,
   "metadata": {},
   "outputs": [],
   "source": []
  }
 ],
 "metadata": {
  "anaconda-cloud": {},
  "kernelspec": {
   "display_name": "Python [conda env:skmob]",
   "language": "python",
   "name": "skmob"
  },
  "language_info": {
   "codemirror_mode": {
    "name": "ipython",
    "version": 3
   },
   "file_extension": ".py",
   "mimetype": "text/x-python",
   "name": "python",
   "nbconvert_exporter": "python",
   "pygments_lexer": "ipython3",
   "version": "3.7.9"
  },
  "varInspector": {
   "cols": {
    "lenName": 16,
    "lenType": 16,
    "lenVar": 40
   },
   "kernels_config": {
    "python": {
     "delete_cmd_postfix": "",
     "delete_cmd_prefix": "del ",
     "library": "var_list.py",
     "varRefreshCmd": "print(var_dic_list())"
    },
    "r": {
     "delete_cmd_postfix": ") ",
     "delete_cmd_prefix": "rm(",
     "library": "var_list.r",
     "varRefreshCmd": "cat(var_dic_list()) "
    }
   },
   "types_to_exclude": [
    "module",
    "function",
    "builtin_function_or_method",
    "instance",
    "_Feature"
   ],
   "window_display": false
  }
 },
 "nbformat": 4,
 "nbformat_minor": 4
}
